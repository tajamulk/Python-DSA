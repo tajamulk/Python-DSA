{
 "cells": [
  {
   "cell_type": "markdown",
   "metadata": {},
   "source": [
    "## Virtual Environment"
   ]
  },
  {
   "cell_type": "markdown",
   "metadata": {},
   "source": [
    "#### **Anaconda** \n",
    "\n",
    "*Anaconda is a bundle distribution of tools and librarires neeeded for data science like Python, R, libraries etc. It helps in setting up virtual environment and version control in easy way*"
   ]
  },
  {
   "cell_type": "markdown",
   "metadata": {},
   "source": [
    "#### **IDE** \n",
    "\n",
    "*Integrated Development Environment is a software application used for code execution, debugging etc.*\n",
    "\n",
    "* Jupyter\n",
    "* VS Code\n",
    "* Spyder\n",
    "* Google Colab"
   ]
  },
  {
   "cell_type": "markdown",
   "metadata": {},
   "source": [
    "#### **Virtual Environment** \n",
    "\n",
    "*It helps us create an isolated workspace for projects ensuring dependencies are met*"
   ]
  },
  {
   "cell_type": "markdown",
   "metadata": {},
   "source": [
    "##### **Setting up Environment**"
   ]
  },
  {
   "cell_type": "markdown",
   "metadata": {},
   "source": [
    "1. Requirements: Anaconda Installed is must\n",
    "2. Create: conda create -p (path + venvname)\n",
    "    example = conda create -p \"N:\\Tajamul New\\Testing\\dep\" \n",
    "3. Activate: conda activate (path + venvname)\n",
    "    example = conda activate \"N:\\Tajamul New\\Testing\\dep\"\n",
    "4. Execute Code: create file app.py, write code like print(2+2)\n",
    "    Run in Terminal: python app.py\n",
    "4. Deactivate: conda deactivate\n"
   ]
  }
 ],
 "metadata": {
  "language_info": {
   "name": "python"
  }
 },
 "nbformat": 4,
 "nbformat_minor": 2
}
