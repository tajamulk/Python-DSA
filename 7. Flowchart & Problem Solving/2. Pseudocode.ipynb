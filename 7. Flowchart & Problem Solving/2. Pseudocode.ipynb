{
 "cells": [
  {
   "cell_type": "markdown",
   "metadata": {},
   "source": [
    "## Pseudocode\n",
    "\n",
    "Pseudocode is not actual code, but rather a simplified, high-level outline of a program's logic in plain language\n",
    "\n",
    "It is often written before actual code"
   ]
  },
  {
   "cell_type": "markdown",
   "metadata": {},
   "source": [
    "#### Pseudocode"
   ]
  },
  {
   "cell_type": "code",
   "execution_count": null,
   "metadata": {
    "vscode": {
     "languageId": "plaintext"
    }
   },
   "outputs": [],
   "source": [
    "START\n",
    "  Define number1 and number2\n",
    "  Set number1 to 5\n",
    "  Set number2 to 3\n",
    "  Add number1 and number2 and store the result in sum\n",
    "  Print sum\n",
    "END"
   ]
  },
  {
   "cell_type": "markdown",
   "metadata": {},
   "source": [
    "#### Actual Code"
   ]
  },
  {
   "cell_type": "code",
   "execution_count": null,
   "metadata": {},
   "outputs": [],
   "source": [
    "number1 = 5\n",
    "number2 = 3\n",
    "sum = number1 + number2\n",
    "print(sum)"
   ]
  }
 ],
 "metadata": {
  "language_info": {
   "name": "python"
  }
 },
 "nbformat": 4,
 "nbformat_minor": 2
}
