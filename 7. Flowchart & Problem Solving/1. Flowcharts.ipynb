{
 "cells": [
  {
   "cell_type": "markdown",
   "metadata": {},
   "source": [
    "## Flowcharts\n",
    "\n",
    "In functional programming, instead of changing data directly like loops, you typically apply a function to each item in a collection, such as a list, without changing the original data.\n",
    "\n",
    "In simple words, we focus on applying functions rather than changing variables"
   ]
  },
  {
   "cell_type": "markdown",
   "metadata": {},
   "source": []
  }
 ],
 "metadata": {
  "language_info": {
   "name": "python"
  }
 },
 "nbformat": 4,
 "nbformat_minor": 2
}
