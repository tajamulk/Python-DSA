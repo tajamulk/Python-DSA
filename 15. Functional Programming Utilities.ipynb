{
 "cells": [
  {
   "cell_type": "markdown",
   "metadata": {},
   "source": [
    "## Functions Programming Utilities in Python\n",
    "\n",
    "In functional programming, instead of changing data directly like loops, you typically apply a function to each item in a collection, such as a list, without changing the original data.\n",
    "\n",
    "In simple words, we focus on applying functions rather than changing variables"
   ]
  },
  {
   "cell_type": "markdown",
   "metadata": {},
   "source": [
    "### The map() Function\n",
    "\n",
    "map() is a built-in Python function that applies a given function to every item in an iterable (like a list or tuple)"
   ]
  },
  {
   "cell_type": "code",
   "execution_count": null,
   "metadata": {},
   "outputs": [],
   "source": [
    "# Syntax of map():\n",
    "map(function, iterable)"
   ]
  }
 ],
 "metadata": {
  "kernelspec": {
   "display_name": "Python 3 (ipykernel)",
   "language": "python",
   "name": "python3"
  }
 },
 "nbformat": 4,
 "nbformat_minor": 2
}
