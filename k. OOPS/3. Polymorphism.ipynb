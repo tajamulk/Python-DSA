{
 "cells": [
  {
   "cell_type": "markdown",
   "metadata": {},
   "source": [
    "## Polymorphism\n",
    "\n",
    "*means many forms of same thing*\n",
    "\n",
    "polymorphism allows different classes to define methods with the same name, and Python will call the appropriate method based on the object type. \n",
    "\n",
    "This lets you use the same method name for different objects, but each can behave differently."
   ]
  },
  {
   "cell_type": "markdown",
   "metadata": {},
   "source": [
    "### 1. Method Overriding\n",
    "What it is: When a child class changes (or overrides) a method from the parent class.\n",
    "\n",
    "How it works: The method in the child class is called instead of the one in the parent class."
   ]
  },
  {
   "cell_type": "code",
   "execution_count": null,
   "metadata": {},
   "outputs": [
    {
     "name": "stdout",
     "output_type": "stream",
     "text": [
      "Bark\n"
     ]
    }
   ],
   "source": [
    "class Animal:\n",
    "    def speak(self):\n",
    "        return \"Some sound\"\n",
    "\n",
    "class Dog(Animal):\n",
    "    def speak(self):\n",
    "        return \"Bark\"\n",
    "\n",
    "dog = Dog()\n",
    "print(dog.speak())  # Output: Bark\n",
    "\n",
    "# Explanation: Dog overrides the speak method, so when dog.speak() is called, it prints \"Bark\" instead of the default \"Some sound.\""
   ]
  },
  {
   "cell_type": "markdown",
   "metadata": {},
   "source": [
    "### 2. Operator Overloading\n",
    "What it is: Changing how operators like + work for your custom objects.\n",
    "\n",
    "How it works: You can tell Python how to use operators like + with your own classes."
   ]
  },
  {
   "cell_type": "code",
   "execution_count": 2,
   "metadata": {},
   "outputs": [
    {
     "name": "stdout",
     "output_type": "stream",
     "text": [
      "<__main__.Combine object at 0x7ade6c107a10>\n",
      "<__main__.Combine object at 0x7ade6c0d74d0>\n"
     ]
    }
   ],
   "source": [
    "class Combine:\n",
    "    def __init__(self, value):\n",
    "        self.value = value\n",
    "\n",
    "    def __add__(self, other):\n",
    "        if isinstance(self.value, str) and isinstance(other.value, str):\n",
    "            return Combine(self.value + other.value)  # Concatenation for strings\n",
    "            \n",
    "        elif isinstance(self.value, int) and isinstance(other.value, int):\n",
    "            return Combine(self.value + other.value)  # Addition for integers\n",
    "        else:\n",
    "            return Combine(f\"{self.value} {other.value}\")  # Combine different types as strings\n",
    "\n",
    "    def __str__(self):\n",
    "        return str(self.value)  # Return a string representation of the value\n",
    "\n",
    "# Create objects\n",
    "obj1 = Combine(10)          # Integer\n",
    "obj2 = Combine(20)          # Integer\n",
    "obj3 = Combine(\"Hello\")     # String\n",
    "obj4 = Combine(\"World\")     # String\n",
    "\n",
    "# Using the + operator\n",
    "print(obj1 + obj2)  # Output: 30 (Addition)\n",
    "print(obj3 + obj4)  # Output: HelloWorld (Concatenation)"
   ]
  },
  {
   "cell_type": "markdown",
   "metadata": {},
   "source": [
    "#### Polymorphism with Abstract Base Classes\n",
    "An abstract class in Python is like a blueprint for other classes. It cannot be used directly to create objects. \n",
    "\n",
    "Instead, it is designed to be inherited by other classes, and it usually contains abstract methods that must be implemented by its child classes.\n",
    "\n",
    "Key Points:\n",
    "\n",
    "- Cannot Create Objects: You cannot instantiate (create an object of) an abstract class directly.\n",
    "- Abstract Methods: These are methods that don’t have a body (no implementation). Child classes must implement them.\n",
    "- Purpose: To enforce a structure or common behavior in all child classes.\n"
   ]
  },
  {
   "cell_type": "code",
   "execution_count": 6,
   "metadata": {},
   "outputs": [
    {
     "name": "stdout",
     "output_type": "stream",
     "text": [
      "Car enginer started\n"
     ]
    }
   ],
   "source": [
    "from abc import ABC,abstractmethod\n",
    "\n",
    "## Define an abstract class\n",
    "class Vehicle(ABC):\n",
    "    @abstractmethod\n",
    "    def start_engine(self):\n",
    "        pass\n",
    "\n",
    "## Derived class 1\n",
    "class Car(Vehicle):\n",
    "    def start_engine(self):\n",
    "        return \"Car engine started\"\n",
    "    \n",
    "## Derived class 2\n",
    "class Motorcycle(Vehicle):\n",
    "    def start_engine(self):\n",
    "        return \"Motorcycle engine started\"\n",
    "    \n",
    "# Function that demonstrates polymorphism\n",
    "def start_vehicle(vehicle):\n",
    "    print(vehicle.start_engine())\n",
    "\n",
    "## create objects of cAr and Motorcycle\n",
    "\n",
    "car = Car()\n",
    "motorcycle = Motorcycle()\n",
    "\n",
    "start_vehicle(car)"
   ]
  },
  {
   "cell_type": "markdown",
   "metadata": {},
   "source": [
    "#### Conclusion\n",
    "Polymorphism is a powerful feature of OOP that allows for flexibility and integration in code design. It enables a single function to handle objects of different classes, each with its own implementation of a method. By understanding and applying polymorphism, you can create more extensible and maintainable object-oriented programs."
   ]
  }
 ],
 "metadata": {
  "kernelspec": {
   "display_name": "Python 3 (ipykernel)",
   "language": "python",
   "name": "python3"
  },
  "language_info": {
   "codemirror_mode": {
    "name": "ipython",
    "version": 3
   },
   "file_extension": ".py",
   "mimetype": "text/x-python",
   "name": "python",
   "nbconvert_exporter": "python",
   "pygments_lexer": "ipython3",
   "version": "3.12.1"
  }
 },
 "nbformat": 4,
 "nbformat_minor": 2
}
