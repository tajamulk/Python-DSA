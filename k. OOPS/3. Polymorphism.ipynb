{
 "cells": [
  {
   "cell_type": "markdown",
   "metadata": {},
   "source": [
    "## Polymorphism\n",
    "\n",
    "*means many forms of same thing*\n",
    "\n",
    "polymorphism allows different classes to define methods with the same name, and Python will call the appropriate method based on the object type. \n",
    "\n",
    "This lets you use the same method name for different objects, but each can behave differently."
   ]
  },
  {
   "cell_type": "markdown",
   "metadata": {},
   "source": [
    "### 1. Method Overriding\n",
    "What it is: When a child class changes (or overrides) a method from the parent class.\n",
    "\n",
    "How it works: The method in the child class is called instead of the one in the parent class."
   ]
  },
  {
   "cell_type": "code",
   "execution_count": null,
   "metadata": {},
   "outputs": [
    {
     "name": "stdout",
     "output_type": "stream",
     "text": [
      "Bark\n"
     ]
    }
   ],
   "source": [
    "class Animal:\n",
    "    def speak(self):\n",
    "        return \"Some sound\"\n",
    "\n",
    "class Dog(Animal):\n",
    "    def speak(self):\n",
    "        return \"Bark\"\n",
    "\n",
    "dog = Dog()\n",
    "print(dog.speak())  # Output: Bark\n",
    "\n",
    "# Explanation: Dog overrides the speak method, so when dog.speak() is called, it prints \"Bark\" instead of the default \"Some sound.\""
   ]
  },
  {
   "cell_type": "markdown",
   "metadata": {},
   "source": [
    "### 2. Operator Overloading\n",
    "What it is: Changing how operators like + work for your custom objects.\n",
    "\n",
    "How it works: You can tell Python how to use operators like + with your own classes."
   ]
  },
  {
   "cell_type": "code",
   "execution_count": 1,
   "metadata": {},
   "outputs": [
    {
     "data": {
      "text/plain": [
       "'\\n__add__(self, other): Adds two objects using the + operator.\\n__sub__(self, other): Subtracts two objects using the - operator.\\n__mul__(self, other): Multiplies two objects using the * operator.\\n__truediv__(self, other): Divides two objects using the / operator.\\n__eq__(self, other): Checks if two objects are equal using the == operator.\\n__lt__(self, other): Checks if one object is less than another using the < operator.\\n\\n__gt__\\n'"
      ]
     },
     "execution_count": 1,
     "metadata": {},
     "output_type": "execute_result"
    }
   ],
   "source": [
    "# Common Operator Overloading Magic Methods\n",
    "'''\n",
    "__add__(self, other): Adds two objects using the + operator.\n",
    "__sub__(self, other): Subtracts two objects using the - operator.\n",
    "__mul__(self, other): Multiplies two objects using the * operator.\n",
    "__truediv__(self, other): Divides two objects using the / operator.\n",
    "__eq__(self, other): Checks if two objects are equal using the == operator.\n",
    "__lt__(self, other): Checks if one object is less than another using the < operator.\n",
    "'''"
   ]
  },
  {
   "cell_type": "code",
   "execution_count": 2,
   "metadata": {},
   "outputs": [
    {
     "name": "stdout",
     "output_type": "stream",
     "text": [
      "<__main__.Combine object at 0x7ade6c107a10>\n",
      "<__main__.Combine object at 0x7ade6c0d74d0>\n"
     ]
    }
   ],
   "source": [
    "# Class to represent a Vector with basic mathematical operations\n",
    "class Vector:\n",
    "    # Constructor method to initialize x and y coordinates of the vector\n",
    "    def __init__(self, x, y):\n",
    "        self.x = x  # Set x-coordinate\n",
    "        self.y = y  # Set y-coordinate\n",
    "\n",
    "    # Overload the + operator to add two vectors\n",
    "    def __add__(self, other):\n",
    "        # Add corresponding x and y components of two vectors and return a new vector\n",
    "        return Vector(self.x + other.x, self.y + other.y)\n",
    "    \n",
    "    # Overload the - operator to subtract two vectors\n",
    "    def __sub__(self, other):\n",
    "        # Subtract corresponding x and y components of two vectors and return a new vector\n",
    "        return Vector(self.x - other.x, self.y - other.y)\n",
    "\n",
    "    # Overload the * operator to scale the vector by a scalar\n",
    "    def __mul__(self, other):\n",
    "        # Multiply both x and y components of the vector by the scalar\n",
    "        return Vector(self.x * other, self.y * other)\n",
    "    \n",
    "    # Method to define a string representation of the vector object\n",
    "    def __repr__(self):\n",
    "        # Return a string that represents the vector in a readable format\n",
    "        return f\"Vector({self.x}, {self.y})\"\n",
    "    \n",
    "# Create two vector objects with coordinates (2, 3) and (4, 5)\n",
    "v1 = Vector(2, 3)\n",
    "v2 = Vector(4, 5)\n",
    "\n",
    "# Perform addition of two vectors and print the result\n",
    "print(v1 + v2)  # Output: Vector(6, 8)\n",
    "\n",
    "# Perform subtraction of two vectors and print the result\n",
    "print(v1 - v2)  # Output: Vector(-2, -2)\n",
    "\n",
    "# Multiply vector v1 by a scalar 3 and print the result\n",
    "print(v1 * 3)  # Output: Vector(6, 9)\n",
    "\n"
   ]
  },
  {
   "cell_type": "markdown",
   "metadata": {},
   "source": [
    "#### Conclusion\n",
    "Polymorphism is a powerful feature of OOP that allows for flexibility and integration in code design. It enables a single function to handle objects of different classes, each with its own implementation of a method. By understanding and applying polymorphism, you can create more extensible and maintainable object-oriented programs."
   ]
  }
 ],
 "metadata": {
  "kernelspec": {
   "display_name": "Python 3 (ipykernel)",
   "language": "python",
   "name": "python3"
  },
  "language_info": {
   "codemirror_mode": {
    "name": "ipython",
    "version": 3
   },
   "file_extension": ".py",
   "mimetype": "text/x-python",
   "name": "python",
   "nbconvert_exporter": "python",
   "pygments_lexer": "ipython3",
   "version": "3.12.1"
  }
 },
 "nbformat": 4,
 "nbformat_minor": 2
}
