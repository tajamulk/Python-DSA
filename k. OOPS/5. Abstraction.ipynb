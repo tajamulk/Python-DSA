{
 "cells": [
  {
   "cell_type": "markdown",
   "metadata": {},
   "source": [
    "## Abstraction\n",
    "Abstraction means simplifying things by showing only what is necessary and hiding the unnecessary details.\n",
    "\n",
    "e.g., \n",
    "\n",
    "- How machine works in backend\n",
    "- only show front end"
   ]
  },
  {
   "cell_type": "markdown",
   "metadata": {},
   "source": [
    "### Abstarct Method\n",
    "\n",
    "doesn't have any implementation. It only defines the name and parameters of the method, and the subclasses must provide the actual implementation for that method."
   ]
  },
  {
   "cell_type": "code",
   "execution_count": 3,
   "metadata": {},
   "outputs": [
    {
     "name": "stdout",
     "output_type": "stream",
     "text": [
      "Car enginer started\n",
      "The vehicle is used for driving\n"
     ]
    }
   ],
   "source": [
    "from abc import ABC, abstractmethod\n",
    "\n",
    "class Animal(ABC):  # Abstract class\n",
    "    @abstractmethod  # Abstract method\n",
    "    def sound(self):  # No implementation here\n",
    "        pass\n",
    "\n",
    "class Dog(Animal):  # Subclass of Animal\n",
    "    def sound(self):  # Implementation of abstract method\n",
    "        return \"Bark\"\n",
    "\n",
    "# Usage\n",
    "dog = Dog()\n",
    "print(dog.sound())  # Output: Bark"
   ]
  }
 ],
 "metadata": {
  "kernelspec": {
   "display_name": "Python 3 (ipykernel)",
   "language": "python",
   "name": "python3"
  }
 },
 "nbformat": 4,
 "nbformat_minor": 2
}
